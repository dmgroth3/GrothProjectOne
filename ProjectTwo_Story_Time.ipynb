{
  "cells": [
    {
      "cell_type": "markdown",
      "metadata": {
        "id": "view-in-github",
        "colab_type": "text"
      },
      "source": [
        "<a href=\"https://colab.research.google.com/github/dmgroth3/GrothProjectOne/blob/main/ProjectTwo_Story_Time.ipynb\" target=\"_parent\"><img src=\"https://colab.research.google.com/assets/colab-badge.svg\" alt=\"Open In Colab\"/></a>"
      ]
    },
    {
      "cell_type": "code",
      "execution_count": null,
      "metadata": {
        "id": "-TCRn0NWi8T1"
      },
      "outputs": [],
      "source": []
    },
    {
      "cell_type": "code",
      "execution_count": null,
      "metadata": {
        "id": "hffrhxqYyhSO"
      },
      "outputs": [],
      "source": []
    },
    {
      "cell_type": "code",
      "source": [],
      "metadata": {
        "id": "NPEtkH8gN8aa"
      },
      "execution_count": null,
      "outputs": []
    },
    {
      "cell_type": "code",
      "execution_count": null,
      "metadata": {
        "id": "fVOd1HCdUKcp",
        "colab": {
          "base_uri": "https://localhost:8080/"
        },
        "outputId": "b0aa5d23-0893-48ee-e05f-af8771b6887d"
      },
      "outputs": [
        {
          "output_type": "stream",
          "name": "stdout",
          "text": [
            " This is the tale of the the Towns teacher, blacksmith, and king.\n",
            " All three of these people are on a different quest, but all are looking for something specific.\n",
            " The teacher is looking for a brillant student to solve a math equation. This teacher is a math wiz so the student must be a wiz.\n",
            " The blacksmith is looking for a sacred sword which is centuries old and a keepsake of his grandfather.\n",
            " The King must battle a dragon, while the dragon will ask you a tricky question for a number that equates to ten.\n",
            " All three indivduals are searching for something different.\n",
            "a teacher\n",
            "b blacksmith\n",
            "c king\n",
            "Enter a- c: a\n",
            " In a little town in Kentucky, the math teacher believes she is unqualified to teach math as she has a business degree.\n",
            " The teacher is in quite a dilemna as she has a math equation to solve but does not know how to solve the equation. She is looking for a math kid whiz.\n",
            " The teacher believes she has found the math kid whiz, but now will the kid be able to solve her math equation?\n",
            " The math kid whiz is intrigued with the math equation and questions why the math teacher is unable to solve this math problem.\n",
            " y = 6 + 2 + 1\n",
            "Enter 9\n",
            "true\n",
            "The Blacksmith is from British royalty and he must find his sword.\n",
            "The Blacksmith will find his sword at one of these locations.\n",
            "a Inner Harbor Ice Sculpture\n",
            "b Ritas Ice on Charles Street\n",
            "c Walters Art Museum Alaska display\n",
            "sword location:  b\n",
            "enter a-c: b\n",
            " true\n",
            " true\n",
            " The Blacksmith has found his frozen sword half way around the world\", \"The frozen sword was found in Baltimore, Maryland, USA\n"
          ]
        }
      ],
      "source": [
        "#Tales of the Town's Teacher, Blacksmith, and King\n",
        "#Decide who to talk with and what story to tell\n",
        "#people = \"teacher\", \"blacksmith\", \"king\"\n",
        "print(f' This is the tale of the the Towns teacher, blacksmith, and king.')\n",
        "print (f' All three of these people are on a different quest, but all are looking for something specific.')\n",
        "print (f' The teacher is looking for a brillant student to solve a math equation. This teacher is a math wiz so the student must be a wiz.')\n",
        "print (f' The blacksmith is looking for a sacred sword which is centuries old and a keepsake of his grandfather.')\n",
        "print (f' The King must battle a dragon, while the dragon will ask you a tricky question for a number that equates to ten.')\n",
        "print (f' All three indivduals are searching for something different.' )\n",
        "\n",
        "print (f'a teacher')\n",
        "print (f'b blacksmith')\n",
        "print (f'c king')\n",
        "people = input (\"Enter a- c: \")\n",
        "\n",
        "#Teacher's Story\n",
        "print (f' In a little town in Kentucky, the math teacher believes she is unqualified to teach math as she has a business degree.')\n",
        "print (f' The teacher is in quite a dilemna as she has a math equation to solve but does not know how to solve the equation. She is looking for a math kid whiz.')\n",
        "print (f' The teacher believes she has found the math kid whiz, but now will the kid be able to solve her math equation?')\n",
        "print (f' The math kid whiz is intrigued with the math equation and questions why the math teacher is unable to solve this math problem.')\n",
        "\n",
        "print (f' y = 6 + 2 + 1')\n",
        "teacher = input (\"Enter \")\n",
        "sum = 9\n",
        "\n",
        "#compare what is equal if the answer is correct/true, otherwise the answer is incorrect/false\n",
        "if(sum == 9):\n",
        "  print(\"true\")\n",
        "else:\n",
        "  print(\"false\")\n",
        "  print()\n",
        "\n",
        "#The Blacksmith's Story\n",
        "#The Blacksmith's Frozen Sword\n",
        "print(f'The Blacksmith is from British royalty and he must find his sword.')\n",
        "print(f'The Blacksmith will find his sword at one of these locations.')\n",
        "sword_locations = (\"Inner Harbor Ice Sculpture\", \"Rita's Ice on Charles Street\", \"Walter's Art Museum Alaska display\")\n",
        "print(f'a Inner Harbor Ice Sculpture')\n",
        "print(f'b Ritas Ice on Charles Street')\n",
        "print(f'c Walters Art Museum Alaska display')\n",
        "Blacksmith = input (\"sword location:  \")\n",
        "sword_locations = input (\"enter a-c: \")\n",
        "if (\"Inner Harbor Ice Sculpture\"):\n",
        "  print (f' true')\n",
        "elif(\"Ritas Ice on Charles Street\"):\n",
        "   print(f' true')\n",
        "else:\n",
        "  (\"Walter's Art Museum Alaska display\")\n",
        "print(f' true')\n",
        "\n",
        "#The Blacksmith\n",
        "#Commentary by the Blacksmith's aide\n",
        "print (f' The Blacksmith has found his frozen sword half way around the world\", \"The frozen sword was found in Baltimore, Maryland, USA')\n"
      ]
    },
    {
      "cell_type": "code",
      "execution_count": null,
      "metadata": {
        "id": "UnPtxUkwgkEy",
        "colab": {
          "base_uri": "https://localhost:8080/"
        },
        "outputId": "ab8d18e6-103a-4fa4-ba20-7fb5e3bbd611"
      },
      "outputs": [
        {
          "output_type": "stream",
          "name": "stdout",
          "text": [
            " the King has to battle the dragon only for the dragon to ask a tricky riddle, which will provide two numbers to equal ten.\n",
            "The sum of 5 and 5 is 10\n"
          ]
        }
      ],
      "source": [
        "#the Kings Story\n",
        "#The King has to battle the dragon only for the dragon to ask a tricky riddle, which will provide two numbers to equal ten.\n",
        "print(f' the King has to battle the dragon only for the dragon to ask a tricky riddle, which will provide two numbers to equal ten.')\n",
        "#riddle = (f'how many toes does a Chinese dragon have?')\n",
        "#Adding two numbers to solve riddle for number of toes,for two feet, on Chinese dragon\n",
        "def add_two_numbers(a, b):\n",
        "    return a + b\n",
        "\n",
        "num1 = 5\n",
        "num2 = 5\n",
        "total = add_two_numbers(num1, num2)\n",
        "print(f\"The sum of {num1} and {num2} is {total}\")\n",
        "\n",
        "\n"
      ]
    },
    {
      "cell_type": "code",
      "execution_count": null,
      "metadata": {
        "id": "CM7nWmGkM3OP"
      },
      "outputs": [],
      "source": [
        "\n",
        "\n"
      ]
    }
  ],
  "metadata": {
    "colab": {
      "provenance": [],
      "authorship_tag": "ABX9TyN8ReIpG1pIjTdvzv4XoSUM",
      "include_colab_link": true
    },
    "kernelspec": {
      "display_name": "Python 3",
      "name": "python3"
    },
    "language_info": {
      "name": "python"
    }
  },
  "nbformat": 4,
  "nbformat_minor": 0
}