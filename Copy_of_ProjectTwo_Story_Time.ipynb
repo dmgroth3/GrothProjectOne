{
  "cells": [
    {
      "cell_type": "markdown",
      "metadata": {
        "id": "view-in-github",
        "colab_type": "text"
      },
      "source": [
        "<a href=\"https://colab.research.google.com/github/dmgroth3/GrothProjectOne/blob/main/Copy_of_ProjectTwo_Story_Time.ipynb\" target=\"_parent\"><img src=\"https://colab.research.google.com/assets/colab-badge.svg\" alt=\"Open In Colab\"/></a>"
      ]
    },
    {
      "cell_type": "code",
      "execution_count": null,
      "metadata": {
        "id": "fVOd1HCdUKcp"
      },
      "outputs": [],
      "source": [
        "#THE USER IS REQUESTED TO SELECT ONE OF THE FOLLLOWING THREE STORIES.\n",
        "#The user should get a different ending other than the story ending stated below.\n",
        "#The User may select any other option that what is cited in the Teacher's story, Blacksmith's Story, or the King's story.\n",
        "#Tales of the Town's Teacher, Blacksmith, and King\n",
        "#Decide who to talk with and what story to tell\n",
        "#people = \"teacher\", \"blacksmith\", \"king\"\n",
        "print(f' This is the tale of the the Towns teacher, blacksmith, and king.')\n",
        "print (f' All three people are on a different quest, but all are looking for something specific.')\n",
        "print (f' The teacher is looking for a brillant student to solve a math equation. This teacher is a math wiz so the student must be a wiz.')\n",
        "print (f' The blacksmith is looking for a sacred sword which is centuries old and a keepsake of his grandfather.')\n",
        "print (f' The King must battle a dragon, while the dragon will ask you a tricky question for a number that equates to ten.')\n",
        "print (f' All three indivduals are searching for something different.' )\n",
        "#The user needs to choose which story to follow (teacher, blacksmith, king).\n",
        "print(\"Please select a story\")\n",
        "print(f'a teacher story')\n",
        "print(f'b blacksmith story')\n",
        "print(f'c king story')\n",
        "\n",
        "\n",
        "choose_story = input(\"Enter a- c: \")\n",
        "print ()\n",
        "\n",
        "#Teacher's Story\n",
        "if choose_story == \"a\":\n",
        "  print(f' In a little town in Kentucky, the math teacher believes she is unqualified to teach math as she has a business degree.')\n",
        "  print(f' The teacher is in quite a dilemna as she has a math equation to solve but does not know how to solve the equation. She is looking for a math kid whiz.')\n",
        "  print(f' The teacher believes she has found the math kid whiz, but now will the kid be able to solve her math equation?')\n",
        "  print(f' The math kid whiz is intrigued with the math equation and questions why the math teacher is unable to solve this math problem.')\n",
        "\n",
        "\n",
        "  teacher: str('6 + 2 + 1')\n",
        "  #get number from user\n",
        "  number = input('Enter a number: ')\n",
        "\n",
        "  # Convert the string to an actual int\n",
        "  number = int(number)\n",
        "\n",
        "  isTrue = number > 8\n",
        "  print(f\"Variable's Value: {isTrue}\")\n",
        "\n",
        "elif choose_story == \"b\":\n",
        "  #The Blacksmith's Story\n",
        "  #The Blacksmith's Frozen Sword\n",
        "  print(f'The Blacksmith is from British royalty and he must find his sword.')\n",
        "  print(f'The Blacksmith will find his sword at one of these locations.')\n",
        "  #these are the potential sword locations\n",
        "  choose_sword_location = (\"Inner Harbor Ice Sculpture\", \"Rita's Ice on Charles Street\", \"Walters Art Museum Alaska display\")\n",
        "\n",
        "  if choose_sword_location == \"Inner Harbor Ice Sculpture\":\n",
        "    print(f'a Inner Harbor Ice Sculpture')\n",
        "  elif choose_sword_location == \"Ritas Ice on Charles Street\":\n",
        "    print(f'b Ritas Ice on Charles Street')\n",
        "  else:\n",
        "      choose_sword_location == \"Walters Art Museum Alaska display\"\n",
        "  print(f'c Museum Alaska display')\n",
        "\n",
        "  choose_sword_location = input(\"Enter a-c: \")\n",
        "\n",
        "else:\n",
        "#the Kings Story\n",
        "#The King has to battle the dragon but needs the dragon to answer the tricky riddle.\n",
        "print(f' the King has to battle the dragon but needs the dragon to answer this tricky riddle, which will provide two numbers to equal ten.')\n",
        "riddle = (f'A Chinese dragon has two feet.  How many toes does a Chinese dragon have on the right foot and how many toes on the left foot?')\n",
        "toes_right_foot = 5\n",
        "toes_left_foot = 5\n",
        "\n",
        "#Calculate total number of toes\n",
        "def calculate(toes_right_foot, toes_left_foot):\n",
        "return toes_right_foot, toes_left_foot\n",
        "\n",
        "#Get the number of toes on each foot of the dragon\n",
        "toes_right_foot, toes_right_foot = calculate_toes(toes_right_foot, toes_left_foot)\n",
        "\n",
        "#Print the results of the number of toes\n",
        "print(f\"A Chinese dragon has {toes_right_foot} toes on the right foot and {toes_left_foot} toes on the left foot.\")\n",
        "\n",
        "\n"
      ]
    }
  ],
  "metadata": {
    "colab": {
      "provenance": [],
      "authorship_tag": "ABX9TyNjtO8xpq8TT618ZlYJyFRk",
      "include_colab_link": true
    },
    "kernelspec": {
      "display_name": "Python 3",
      "name": "python3"
    },
    "language_info": {
      "name": "python"
    }
  },
  "nbformat": 4,
  "nbformat_minor": 0
}