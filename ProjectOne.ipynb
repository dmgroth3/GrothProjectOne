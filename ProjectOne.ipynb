{
  "cells": [
    {
      "cell_type": "markdown",
      "metadata": {
        "id": "view-in-github",
        "colab_type": "text"
      },
      "source": [
        "<a href=\"https://colab.research.google.com/github/dmgroth3/GrothProjectOne/blob/main/ProjectOne.ipynb\" target=\"_parent\"><img src=\"https://colab.research.google.com/assets/colab-badge.svg\" alt=\"Open In Colab\"/></a>"
      ]
    },
    {
      "cell_type": "code",
      "source": [
        "#all code will exist here\n",
        "#Car Customization Project\n",
        "# Make and Model Section\n",
        "customcar = 'model'\n",
        "print(customcar)\n",
        "\n",
        "\n",
        "#model = \"Lighting Speedstar\", \"Ecoleaf\", \"HarpChord\", \"Chevon Jolt\"\n",
        "print(f'a LightningSpeedstar')\n",
        "print(f'b Ecoleaf')\n",
        "print(f'c HarpChord')\n",
        "print(f'd ChevronJolt')\n",
        "model = input(\"Enter a - d: \")\n",
        "\n",
        "#Interior Section\n",
        "#door_option = \"two door\", \"four door\"\n",
        "print(f'would you like to upgrade from a 4-door to 2-door option?')\n",
        "door_option = input(\"Enter yes or no: \")\n",
        "\n",
        "#Exterior Section and Car Color\n",
        "#color = \"red\", \"blue\", \"white\", \"black\"\n",
        "print(f'What color would you like your car to be?')\n",
        "print(f'a red')\n",
        "print(f'b blue')\n",
        "print(f'c white')\n",
        "print(f'd black')\n",
        "color = input(\"Enter a - d: \")\n",
        "\n",
        "#Deluxe Weather Package\n",
        "#weather_package = \"yes\", \"no\"\n",
        "print(f'would you like the deluxe weather package?')\n",
        "print(f'a yes')\n",
        "print(f'b no')\n",
        "weather_package = input(\"Enter a - b: \")\n",
        "\n",
        "#Engine Type\n",
        "#engine = \"I-4 Entry Engine\", \"V-6 Performance Engine\", \"EcoDiesel Engine\",\n",
        "print(f'which engine would you like your car to have?')\n",
        "print(f'a I-4 Entry Engine')\n",
        "print(f'b V-6 Performance Engine')\n",
        "print(f'c EcoDiesel Engine')\n",
        "engine = input(\"Enter a - c:\")\n",
        "\n",
        "#Interior Section and Heated Seats\n",
        "#heated_seats = \"yes\", \"no\"\n",
        "print(f'would you like heated seats?')\n",
        "print(f'a yes')\n",
        "print(f'b no')\n",
        "heated_seats = input(\"Enter a-b: \")\n",
        "\n",
        "#Car order\n",
        "#Print the Car Order\n",
        "print(f'Summary')\n",
        "print(f'Model: {model}')\n",
        "print(f'Door Option: {door_option}')\n",
        "print(f'Color: {color}')\n",
        "print(f'Weather Package: {weather_package}')\n",
        "print(f'Engine: {engine}')\n",
        "print(f'Heated Seats:{heated_seats}')\n",
        "\n"
      ],
      "metadata": {
        "colab": {
          "base_uri": "https://localhost:8080/"
        },
        "id": "8imdNcZdGuD_",
        "outputId": "0467f6a7-d5d3-40a5-deec-cb00091530c0"
      },
      "execution_count": 6,
      "outputs": [
        {
          "output_type": "stream",
          "name": "stdout",
          "text": [
            "model\n",
            "a LightningSpeedstar\n",
            "b Ecoleaf\n",
            "c HarpChord\n",
            "d ChevronJolt\n",
            "Enter a - d: a\n",
            "would you like to upgrade from a 4-door to 2-door option?\n",
            "Enter yes or no: yes\n",
            "What color would you like your car to be?\n",
            "a red\n",
            "b blue\n",
            "c white\n",
            "d black\n",
            "Enter a - d: b\n",
            "would you like the deluxe weather package?\n",
            "a yes\n",
            "b no\n",
            "Enter a - b: a\n",
            "which engine would you like your car to have?\n",
            "a I-4 Entry Engine\n",
            "b V-6 Performance Engine\n",
            "c EcoDiesel Engine\n",
            "Enter a - c:c\n",
            "would you like heated seats?\n",
            "a yes\n",
            "b no\n",
            "Enter a-b: a\n",
            "Summary\n",
            "Model: a\n",
            "Door Option: yes\n",
            "Color: b\n",
            "Weather Package: a\n",
            "Engine: c\n",
            "Heated Seats:a\n"
          ]
        }
      ]
    }
  ],
  "metadata": {
    "colab": {
      "provenance": [],
      "authorship_tag": "ABX9TyPgxNtcpKs7vvsW1anyVcgh",
      "include_colab_link": true
    },
    "kernelspec": {
      "display_name": "Python 3",
      "name": "python3"
    },
    "language_info": {
      "name": "python"
    }
  },
  "nbformat": 4,
  "nbformat_minor": 0
}