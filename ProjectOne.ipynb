{
  "nbformat": 4,
  "nbformat_minor": 0,
  "metadata": {
    "colab": {
      "provenance": [],
      "authorship_tag": "ABX9TyM1CqrsMoToNBMTQrbCM891",
      "include_colab_link": true
    },
    "kernelspec": {
      "name": "python3",
      "display_name": "Python 3"
    },
    "language_info": {
      "name": "python"
    }
  },
  "cells": [
    {
      "cell_type": "markdown",
      "metadata": {
        "id": "view-in-github",
        "colab_type": "text"
      },
      "source": [
        "<a href=\"https://colab.research.google.com/github/dmgroth3/GrothProjectOne/blob/main/ProjectOne.ipynb\" target=\"_parent\"><img src=\"https://colab.research.google.com/assets/colab-badge.svg\" alt=\"Open In Colab\"/></a>"
      ]
    },
    {
      "cell_type": "code",
      "execution_count": null,
      "metadata": {
        "id": "cz1_Xa4iN12z"
      },
      "outputs": [],
      "source": []
    },
    {
      "cell_type": "code",
      "source": [
        "word = input(\"Enter a word: \")\n",
        "result = len(word) > 5\n",
        "print(f'Is the word larger than 5 characters long? {result}')"
      ],
      "metadata": {
        "id": "vKqBAaWZgDbv",
        "colab": {
          "base_uri": "https://localhost:8080/"
        },
        "outputId": "b7452ccf-68fb-4527-9d09-73288351996c"
      },
      "execution_count": null,
      "outputs": [
        {
          "output_type": "stream",
          "name": "stdout",
          "text": [
            "Enter a word: HelloThere\n",
            "Is the word larger than 5 characters long? True\n"
          ]
        }
      ]
    },
    {
      "cell_type": "code",
      "source": [
        "print(f'Welcome to the UMBC Car Customization Form')\n",
        "print(f'What model of car are you ordering?')\n",
        "print(f'a LightningSpeedstar')\n",
        "print(f'b Ecoleaf')\n",
        "print(f'c HarpChord')\n",
        "print(f'd ChevronJolt')\n",
        "mychoice = input(\"Enter a - d: \")"
      ],
      "metadata": {
        "colab": {
          "base_uri": "https://localhost:8080/"
        },
        "id": "Ur3ZhFTyOCy9",
        "outputId": "a448fa4b-629e-4618-e3bd-224451fb8d4a"
      },
      "execution_count": null,
      "outputs": [
        {
          "name": "stdout",
          "output_type": "stream",
          "text": [
            "Welcome to the UMBC Car Customization Form\n",
            "What model of car are you ordering?\n",
            "a LightningSpeedstar\n",
            "b Ecoleaf\n",
            "c HarpChord\n",
            "d ChevronJolt\n",
            "Enter a - d: a\n"
          ]
        }
      ]
    },
    {
      "cell_type": "code",
      "source": [],
      "metadata": {
        "id": "qcfozVt6jPeg"
      },
      "execution_count": null,
      "outputs": []
    },
    {
      "cell_type": "code",
      "source": [],
      "metadata": {
        "id": "CdscRsP_jRXX"
      },
      "execution_count": null,
      "outputs": []
    },
    {
      "cell_type": "code",
      "source": [
        "print(f'would you like to upgrade from a 4-door to 2-door option?')\n",
        "mychoice = input(\"Enter yes or no: \")"
      ],
      "metadata": {
        "id": "8fo-9QA3QlPQ",
        "colab": {
          "base_uri": "https://localhost:8080/"
        },
        "outputId": "5dbbd513-45c8-4feb-a337-45f7b9f8dee5"
      },
      "execution_count": null,
      "outputs": [
        {
          "name": "stdout",
          "output_type": "stream",
          "text": [
            "would you like to upgrade from a 4-door to 2-door option?\n",
            "Enter yes or no: no\n"
          ]
        }
      ]
    },
    {
      "cell_type": "code",
      "source": [
        "#Car Color\n",
        "print(f'What color would you like your car to be?')\n",
        "print(f'a red')\n",
        "print(f'b blue')\n",
        "print(f'c white')\n",
        "print(f'd black')\n",
        "mychoice = input(\"Enter a - d: \")"
      ],
      "metadata": {
        "colab": {
          "base_uri": "https://localhost:8080/"
        },
        "id": "NeH8nVFOeJ_9",
        "outputId": "7eeb689d-8591-47d4-fd48-eae32c52aa64"
      },
      "execution_count": null,
      "outputs": [
        {
          "name": "stdout",
          "output_type": "stream",
          "text": [
            "What color would you like your car to be?\n",
            "a red\n",
            "b blue\n",
            "c white\n",
            "d black\n",
            "Enter a - d: c\n"
          ]
        }
      ]
    },
    {
      "cell_type": "code",
      "source": [
        "#Deluxe Weather Package\n",
        "print(f'would you like the deluxe weather package?')\n",
        "print(f'a yes')\n",
        "print(f'b no')\n",
        "mychoice = input(\"Enter a - b: \")"
      ],
      "metadata": {
        "colab": {
          "base_uri": "https://localhost:8080/"
        },
        "id": "pwskwMfDfrg5",
        "outputId": "62f97a49-2714-46ba-ddb7-c11050d8f2f1"
      },
      "execution_count": null,
      "outputs": [
        {
          "name": "stdout",
          "output_type": "stream",
          "text": [
            "would you like the deluxe weather package?\n",
            "a yes\n",
            "b no\n",
            "Enter a - b: a\n"
          ]
        }
      ]
    },
    {
      "cell_type": "code",
      "source": [
        "#Engine Type\n",
        "print(f'which engine would you like your car to have?')\n",
        "print(f'a I-4 Entry Engine')\n",
        "print(f'b V-6 Performance Engine')\n",
        "print(f'c EcoDiesel Engine')\n",
        "mychoice = input(\"Enter a - c:\")"
      ],
      "metadata": {
        "colab": {
          "base_uri": "https://localhost:8080/"
        },
        "id": "iIGPAjkogX0p",
        "outputId": "2755ca69-ba48-4708-9cc8-82a523f0b384"
      },
      "execution_count": null,
      "outputs": [
        {
          "name": "stdout",
          "output_type": "stream",
          "text": [
            "which engine would you like your car to have?\n",
            "a I-4 Entry Engine\n",
            "b V-6 Performance Engine\n",
            "c EcoDiesel Engine\n",
            "Enter a - c:c\n"
          ]
        }
      ]
    },
    {
      "cell_type": "code",
      "source": [
        "#Heated Seats\n",
        "print(f'would you like heated seats?')\n",
        "print(f'a yes')\n",
        "print(f'b no')\n",
        "mychoice = input(\"Enter a-b: \")"
      ],
      "metadata": {
        "colab": {
          "base_uri": "https://localhost:8080/"
        },
        "id": "yvrEqCCJhHta",
        "outputId": "447daf88-73da-4cc0-9273-8b5c15edeb33"
      },
      "execution_count": null,
      "outputs": [
        {
          "name": "stdout",
          "output_type": "stream",
          "text": [
            "would you like heated seats?\n",
            "a yes\n",
            "b no\n",
            "Enter a-b: a\n"
          ]
        }
      ]
    },
    {
      "cell_type": "code",
      "source": [
        "#Develop Summary\n",
        "#Model Option\n",
        "model = input(\"Enter What model of car are you ordering: \")\n",
        "#Upgrade to 2-door option\n",
        "upgrade = input(\"Enter your upgrade to 2-door: \")\n",
        "#Desired Color\n",
        "color = input(\"Enter What color would you like your car to be: \")\n",
        "#Upgrade to Deluxe Weather\n",
        "deluxe_weather = input(\"Enter Would you like the deluxe weather package: \")\n",
        "#Engine Option\n",
        "Engine_option = input(\"Enter which engine would you like your car to have: \")\n",
        "#Upgrade to Heated Seats\n",
        "Heated Seats = input(\"Enter would you like heated seats\" )"
      ],
      "metadata": {
        "id": "dewzj8H2jXj0",
        "colab": {
          "base_uri": "https://localhost:8080/",
          "height": 110
        },
        "outputId": "9415a981-858b-4830-b143-0d2489aae3cc"
      },
      "execution_count": null,
      "outputs": [
        {
          "output_type": "error",
          "ename": "SyntaxError",
          "evalue": "invalid syntax (<ipython-input-14-17e645d67be0>, line 9)",
          "traceback": [
            "\u001b[0;36m  File \u001b[0;32m\"<ipython-input-14-17e645d67be0>\"\u001b[0;36m, line \u001b[0;32m9\u001b[0m\n\u001b[0;31m    deluxe weather = input(\"Enter Would you like the deluxe weather package: \")\u001b[0m\n\u001b[0m           ^\u001b[0m\n\u001b[0;31mSyntaxError\u001b[0m\u001b[0;31m:\u001b[0m invalid syntax\n"
          ]
        }
      ]
    },
    {
      "cell_type": "code",
      "source": [
        "#Develop Summary\n",
        "#Model Option\n",
        "model = input(\"Enter What model of car are you ordering: \")\n",
        "#Upgrade to 2-door option\n",
        "upgrade = input(\"Enter your upgrade to 2-door: \")\n",
        "#Desired Color\n",
        "color = input(\"Enter What color would you like your car to be: \")\n",
        "#Upgrade to Deluxe Weather\n",
        "deluxe_weather = input(\"Enter Would you like the deluxe weather package: \")\n",
        "#Engine Option\n",
        "Engine_option = input(\"Enter which engine would you like your car to have: \")\n",
        "#Upgrade to Heated Seats\n",
        "Heated_Seats = input(\"Enter would you like heated seats\" )"
      ],
      "metadata": {
        "colab": {
          "base_uri": "https://localhost:8080/"
        },
        "id": "-rrckSLVpLCS",
        "outputId": "8f819964-e066-4ef6-f110-02ff7d654bc8"
      },
      "execution_count": null,
      "outputs": [
        {
          "name": "stdout",
          "output_type": "stream",
          "text": [
            "Enter What model of car are you ordering: a\n",
            "Enter your upgrade to 2-door: no\n",
            "Enter What color would you like your car to be: white\n",
            "Enter Would you like the deluxe weather package: yes\n",
            "Enter which engine would you like your car to have: EcoDiesel Engine\n",
            "Enter would you like heated seatsyes\n"
          ]
        }
      ]
    },
    {
      "cell_type": "code",
      "source": [
        "#Develop Summary\n",
        "#Model Option\n",
        "model = input(\"Enter model of car: \")\n",
        "#Upgrade to 2-door option\n",
        "upgrade = input(\"Enter upgrade to 2-door: \")\n",
        "#Desired Color\n",
        "color = input(\"Enter color: \")\n",
        "#Upgrade to Deluxe Weather\n",
        "deluxe_weather = input(\"Enter deluxe weather package: \")\n",
        "#Engine Option\n",
        "Engine_option = input(\"Enter engine: \")\n",
        "#Upgrade to Heated Seats\n",
        "Heated_Seats = input(\"Enter heated seats: \" )"
      ],
      "metadata": {
        "colab": {
          "base_uri": "https://localhost:8080/"
        },
        "id": "mNSXE43yqIhZ",
        "outputId": "950bd465-f3f6-49d9-c1b6-3b6cb55b6e6d"
      },
      "execution_count": null,
      "outputs": [
        {
          "name": "stdout",
          "output_type": "stream",
          "text": [
            "Enter model of car: a\n",
            "Enter upgrade to 2-door: yes\n",
            "Enter color: c\n",
            "Enter deluxe weather package: a\n",
            "Enter engine: c\n",
            "Enter heated seats: yes\n"
          ]
        }
      ]
    },
    {
      "cell_type": "code",
      "source": [
        "#Develop Summary\n",
        "#Model Option\n",
        "model = input(\"Enter model of car: \")\n",
        "#Upgrade to 2-door option\n",
        "upgrade = input(\"Enter upgrade to 2-door: \")\n",
        "#Desired Color\n",
        "color = input(\"Enter color: \")\n",
        "#Upgrade to Deluxe Weather\n",
        "deluxe_weather = input(\"Enter deluxe weather package: \")\n",
        "#Engine Option\n",
        "Engine_option = input(\"Enter engine: \")\n",
        "#Upgrade to Heated Seats\n",
        "Heated_Seats = input(\"Enter heated seats: \" )\n",
        "#Display the message to the user\n",
        "print(f'Car Order, (model of car) and (upgrade to 2-door) and (color) and (deluxe weather package) and (engine) and (heated seats)')"
      ],
      "metadata": {
        "colab": {
          "base_uri": "https://localhost:8080/"
        },
        "id": "3rYWi6T-rojB",
        "outputId": "4f3b1fca-993e-457e-9e94-1f1553e79aad"
      },
      "execution_count": null,
      "outputs": [
        {
          "output_type": "stream",
          "name": "stdout",
          "text": [
            "Enter model of car: a\n",
            "Enter upgrade to 2-door: yes\n",
            "Enter color: c\n",
            "Enter deluxe weather package: a\n",
            "Enter engine: c\n",
            "Enter heated seats: yes\n",
            "Car Order, (model of car) and (upgrade to 2-door) and (color) and (deluxe weather package) and (engine) and (heated seats)\n"
          ]
        }
      ]
    },
    {
      "cell_type": "code",
      "source": [
        "#Car order\n",
        "#Print the Car Order\n",
        "print(f'Car Order (model: Lighting Speedstar), (upgrade: yes), (color: white), (deluxe weather: yes), (engine option: EcoDiesel Engine), (heated seats: yes)')"
      ],
      "metadata": {
        "colab": {
          "base_uri": "https://localhost:8080/"
        },
        "id": "HdXVrDqIt2PA",
        "outputId": "4716e5df-b960-4314-e672-2cb75075ca9a"
      },
      "execution_count": null,
      "outputs": [
        {
          "output_type": "stream",
          "name": "stdout",
          "text": [
            "Car Order (model: Lighting Speedstar), (upgrade: yes), (color: white), (deluxe weather: yes), (engine option: EcoDiesel Engine), (heated seats: yes)\n"
          ]
        }
      ]
    },
    {
      "cell_type": "code",
      "source": [
        "#Car order\n",
        "#Print the Car Order\n",
        "Print(f'Summary')\n",
        "Print(f'Model: Lighting Speedstar')\n",
        "Print(f'Upgrade to 2 door: yes')\n",
        "Print(f'Color: white')\n",
        "Print(f'Deluxe Weather Package: yes')\n",
        "Print(f'Engine Option: EcoDiesel Engine')\n",
        "Print(f'Heated Seats: yes')\n",
        "\n"
      ],
      "metadata": {
        "colab": {
          "base_uri": "https://localhost:8080/",
          "height": 219
        },
        "id": "DaP02gWavmVM",
        "outputId": "25e35cf4-ea01-44a8-cfec-996c93616f60"
      },
      "execution_count": null,
      "outputs": [
        {
          "output_type": "error",
          "ename": "NameError",
          "evalue": "name 'Print' is not defined",
          "traceback": [
            "\u001b[0;31m---------------------------------------------------------------------------\u001b[0m",
            "\u001b[0;31mNameError\u001b[0m                                 Traceback (most recent call last)",
            "\u001b[0;32m<ipython-input-19-05eab4caa179>\u001b[0m in \u001b[0;36m<cell line: 3>\u001b[0;34m()\u001b[0m\n\u001b[1;32m      1\u001b[0m \u001b[0;31m#Car order\u001b[0m\u001b[0;34m\u001b[0m\u001b[0;34m\u001b[0m\u001b[0m\n\u001b[1;32m      2\u001b[0m \u001b[0;31m#Print the Car Order\u001b[0m\u001b[0;34m\u001b[0m\u001b[0;34m\u001b[0m\u001b[0m\n\u001b[0;32m----> 3\u001b[0;31m \u001b[0mPrint\u001b[0m\u001b[0;34m(\u001b[0m\u001b[0;34mf'Summary'\u001b[0m\u001b[0;34m)\u001b[0m\u001b[0;34m\u001b[0m\u001b[0;34m\u001b[0m\u001b[0m\n\u001b[0m\u001b[1;32m      4\u001b[0m \u001b[0mPrint\u001b[0m\u001b[0;34m(\u001b[0m\u001b[0;34mf'Model: Lighting Speedstar'\u001b[0m\u001b[0;34m)\u001b[0m\u001b[0;34m\u001b[0m\u001b[0;34m\u001b[0m\u001b[0m\n\u001b[1;32m      5\u001b[0m \u001b[0mPrint\u001b[0m\u001b[0;34m(\u001b[0m\u001b[0;34mf'Upgrade to 2 door: yes'\u001b[0m\u001b[0;34m)\u001b[0m\u001b[0;34m\u001b[0m\u001b[0;34m\u001b[0m\u001b[0m\n",
            "\u001b[0;31mNameError\u001b[0m: name 'Print' is not defined"
          ]
        }
      ]
    },
    {
      "cell_type": "code",
      "source": [
        "#Car order\n",
        "#Print the Car Order\n",
        "print(f'Summary')\n",
        "print(f'Model: Lighting Speedstar')\n",
        "print(f'Upgrade to 2 door: yes')\n",
        "print(f'Color: white')\n",
        "print(f'Deluxe Weather Package: yes')\n",
        "print(f'Engine Option: EcoDiesel Engine')\n",
        "print(f'Heated Seats: yes')"
      ],
      "metadata": {
        "colab": {
          "base_uri": "https://localhost:8080/"
        },
        "id": "qM8p2ub3xPdz",
        "outputId": "8fb6e109-8ee2-402e-d8ff-3333fac542bc"
      },
      "execution_count": null,
      "outputs": [
        {
          "output_type": "stream",
          "name": "stdout",
          "text": [
            "Summary\n",
            "Model: Lighting Speedstar\n",
            "Upgrade to 2 door: yes\n",
            "Color: white\n",
            "Deluxe Weather Package: yes\n",
            "Engine Option: EcoDiesel Engine\n",
            "Heated Seats: yes\n"
          ]
        }
      ]
    }
  ]
}